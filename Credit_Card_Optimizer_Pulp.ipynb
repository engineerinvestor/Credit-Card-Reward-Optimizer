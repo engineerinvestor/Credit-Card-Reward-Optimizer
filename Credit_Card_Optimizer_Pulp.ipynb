{
  "nbformat": 4,
  "nbformat_minor": 0,
  "metadata": {
    "colab": {
      "provenance": []
    },
    "kernelspec": {
      "name": "python3",
      "display_name": "Python 3"
    },
    "language_info": {
      "name": "python"
    }
  },
  "cells": [
    {
      "cell_type": "markdown",
      "source": [
        "# Credit Card Optimizer Using Pulp\n",
        "\n",
        "Name: Engineer Investor (@egr_investor)\n",
        "\n",
        "Date: 04/11/2024\n",
        "\n",
        "## Note:\n",
        "\n",
        "Due to personal circumstances, I currently do not have the bandwidth to launch my credit card optimizer website. However, I still plan to do so in the future. For now, I am releasing my optimization algorithm to the public as open-source under the specified license to allow others to iterate and improve upon it. Please note that I am not sharing my credit card rewards database at this time."
      ],
      "metadata": {
        "id": "cSCj68U3FtKZ"
      }
    },
    {
      "cell_type": "markdown",
      "source": [
        "## Install dependencies"
      ],
      "metadata": {
        "id": "LqEul9bWGiMP"
      }
    },
    {
      "cell_type": "code",
      "source": [
        "!pip install pulp pandas"
      ],
      "metadata": {
        "colab": {
          "base_uri": "https://localhost:8080/"
        },
        "id": "XgjYaEMwPJKI",
        "outputId": "f7b2db59-658d-416e-8532-85866b8aba2b"
      },
      "execution_count": 76,
      "outputs": [
        {
          "output_type": "stream",
          "name": "stdout",
          "text": [
            "Requirement already satisfied: pulp in /usr/local/lib/python3.10/dist-packages (2.8.0)\n",
            "Requirement already satisfied: pandas in /usr/local/lib/python3.10/dist-packages (2.0.3)\n",
            "Requirement already satisfied: python-dateutil>=2.8.2 in /usr/local/lib/python3.10/dist-packages (from pandas) (2.8.2)\n",
            "Requirement already satisfied: pytz>=2020.1 in /usr/local/lib/python3.10/dist-packages (from pandas) (2023.4)\n",
            "Requirement already satisfied: tzdata>=2022.1 in /usr/local/lib/python3.10/dist-packages (from pandas) (2024.1)\n",
            "Requirement already satisfied: numpy>=1.21.0 in /usr/local/lib/python3.10/dist-packages (from pandas) (1.25.2)\n",
            "Requirement already satisfied: six>=1.5 in /usr/local/lib/python3.10/dist-packages (from python-dateutil>=2.8.2->pandas) (1.16.0)\n"
          ]
        }
      ]
    },
    {
      "cell_type": "code",
      "source": [
        "import pulp\n",
        "import pandas as pd\n",
        "from typing import Dict, List, Union, Tuple, Set"
      ],
      "metadata": {
        "id": "dOms4m2OE5vR"
      },
      "execution_count": 77,
      "outputs": []
    },
    {
      "cell_type": "markdown",
      "source": [
        "## Define algorithm"
      ],
      "metadata": {
        "id": "4-Q07-jBGmcg"
      }
    },
    {
      "cell_type": "code",
      "source": [
        "def optimize_credit_cards(\n",
        "    cards: Dict[str, Dict[str, float]],\n",
        "    spending: Dict[str, float],\n",
        "    annual_fees: Dict[str, float],\n",
        "    ) -> Union[Tuple[Dict[str, str], float, Set[str]], str]:\n",
        "    \"\"\"\n",
        "    This function optimizes credit card usage to maximize rewards while\n",
        "    considering spending patterns and annual fees.\n",
        "\n",
        "    Args:\n",
        "        cards (dict): Dictionary where keys are card IDs and values are dictionaries\n",
        "                     containing reward rates for each spending category.\n",
        "        spending (dict): Dictionary where keys are spending categories and values\n",
        "                         are the annual amount spent in that category.\n",
        "        annual_fees (dict): Dictionary where keys are card IDs and values are the\n",
        "                            annual fees for each card.\n",
        "\n",
        "    Returns:\n",
        "        tuple: A tuple containing three elements:\n",
        "               - chosen_cards (dict): Dictionary mapping spending categories to the\n",
        "                                      chosen card for that category.\n",
        "               - total_reward (float): The total reward earned by using the chosen cards.\n",
        "               - unique_cards (set): Set containing the unique set of cards selected.\n",
        "               - If no positive reward solution is found, returns a string message\n",
        "                 indicating this and sets total_reward and unique_cards to 0 and empty set respectively.\n",
        "    \"\"\"\n",
        "\n",
        "    # Create a problem variable to maximize rewards\n",
        "    prob = pulp.LpProblem(\"Maximize Credit Card Rewards\", pulp.LpMaximize)\n",
        "\n",
        "    # Decision variables: card_category_vars[card_id][category] = {0, 1}\n",
        "    card_category_vars = {\n",
        "        card: {category: pulp.LpVariable(f\"card_{card}_{category}\", 0, 1, pulp.LpBinary)\n",
        "               for category in spending}\n",
        "        for card in cards\n",
        "    }\n",
        "\n",
        "    # Objective function: Maximize the total reward minus the annual fees\n",
        "    rewards = pulp.lpSum([card_category_vars[card][category] * spending[category] * cards[card][category]\n",
        "                          for card in cards for category in spending])\n",
        "    fees = pulp.lpSum([card_category_vars[card][category] * annual_fees[card]\n",
        "                       for card in cards for category in spending])\n",
        "    total_reward = rewards - fees\n",
        "    prob += total_reward\n",
        "\n",
        "    # Constraint: Total reward must be positive\n",
        "    prob += total_reward >= 0\n",
        "\n",
        "    # Constraints: Each category can only have one card\n",
        "    for category in spending:\n",
        "        prob += pulp.lpSum([card_category_vars[card][category] for card in cards]) == 1\n",
        "\n",
        "    # Solve the problem\n",
        "    prob.solve()\n",
        "\n",
        "    # Check if a positive reward solution exists\n",
        "    if pulp.LpStatus[prob.status] == 'Optimal':\n",
        "        # Extract the chosen cards for each category\n",
        "        chosen_cards = {category: next(card for card in cards if pulp.value(card_category_vars[card][category]) == 1)\n",
        "                        for category in spending}\n",
        "        total_reward = pulp.value(prob.objective)\n",
        "\n",
        "        # Extract the unique set of cards selected\n",
        "        unique_cards = set(chosen_cards.values())\n",
        "\n",
        "        return chosen_cards, total_reward, unique_cards\n",
        "    else:\n",
        "        return \"No positive reward solution found\", 0, set()\n"
      ],
      "metadata": {
        "id": "7INKDWt-FHMR"
      },
      "execution_count": 78,
      "outputs": []
    },
    {
      "cell_type": "markdown",
      "source": [
        "## Example Usuage"
      ],
      "metadata": {
        "id": "ldszmz6JGqWY"
      }
    },
    {
      "cell_type": "code",
      "source": [
        "# Expanded Example Usage\n",
        "cards = {\n",
        "    'Card1': {'Groceries': 0.03, 'Gas': 0.02, 'Dining': 0.01, 'Travel': 0.04, 'Entertainment': 0.02},\n",
        "    'Card2': {'Groceries': 0.02, 'Gas': 0.03, 'Dining': 0.02, 'Travel': 0.01, 'Entertainment': 0.03},\n",
        "    'Card3': {'Groceries': 0.01, 'Gas': 0.04, 'Dining': 0.03, 'Travel': 0.02, 'Entertainment': 0.02},\n",
        "    'Card4': {'Groceries': 0.04, 'Gas': 0.01, 'Dining': 0.02, 'Travel': 0.03, 'Entertainment': 0.04},\n",
        "    'Card5': {'Groceries': 0.05, 'Gas': 0.01, 'Dining': 0.01, 'Travel': 0.02, 'Entertainment': 0.03},\n",
        "    'Card6': {'Groceries': 0.02, 'Gas': 0.05, 'Dining': 0.02, 'Travel': 0.03, 'Entertainment': 0.01},\n",
        "    'Card7': {'Groceries': 0.03, 'Gas': 0.03, 'Dining': 0.04, 'Travel': 0.01, 'Entertainment': 0.02},\n",
        "    'Card8': {'Groceries': 0.02, 'Gas': 0.02, 'Dining': 0.03, 'Travel': 0.04, 'Entertainment': 0.05},\n",
        "    'Card9': {'Groceries': 0.01, 'Gas': 0.03, 'Dining': 0.05, 'Travel': 0.02, 'Entertainment': 0.02},\n",
        "    'Card10': {'Groceries': 0.04, 'Gas': 0.02, 'Dining': 0.01, 'Travel': 0.05, 'Entertainment': 0.01},\n",
        "    'Card11': {'Groceries': 0.03, 'Gas': 0.01, 'Dining': 0.02, 'Travel': 0.03, 'Entertainment': 0.04},\n",
        "    'Card12': {'Groceries': 0.02, 'Gas': 0.02, 'Dining': 0.04, 'Travel': 0.01, 'Entertainment': 0.03},\n",
        "}\n",
        "\n",
        "spending = {\n",
        "    'Groceries': 500,\n",
        "    'Gas': 300,\n",
        "    'Dining': 200,\n",
        "    'Travel': 4000,\n",
        "    'Entertainment': 250,\n",
        "    # 'Shopping': 300,\n",
        "    # 'Utilities': 150,\n",
        "    # 'Online Subscriptions': 100,\n",
        "    # 'Healthcare': 200,\n",
        "    # 'Home Improvement': 150\n",
        "}\n",
        "\n",
        "annual_fees = {\n",
        "    'Card1': 95,\n",
        "    'Card2': 0,\n",
        "    'Card3': 85,\n",
        "    'Card4': 90,\n",
        "    'Card5': 0,\n",
        "    'Card6': 70,\n",
        "    'Card7': 60,\n",
        "    'Card8': 55,\n",
        "    'Card9': 95,\n",
        "    'Card10': 100,\n",
        "    'Card11': 75,\n",
        "    'Card12': 80\n",
        "}"
      ],
      "metadata": {
        "id": "MhFPLIH8ElAo"
      },
      "execution_count": 79,
      "outputs": []
    },
    {
      "cell_type": "code",
      "source": [
        "chosen_cards, total_reward, unique_cards = optimize_credit_cards(cards, spending, annual_fees)\n",
        "\n",
        "print(\"Chosen Cards by Category:\", chosen_cards)\n",
        "print(\"Total Reward:\", total_reward)\n",
        "print(\"Unique Cards Selected:\", unique_cards)"
      ],
      "metadata": {
        "colab": {
          "base_uri": "https://localhost:8080/"
        },
        "id": "j_c1FdG4FTKP",
        "outputId": "ca4b52c9-4e53-4dff-aa18-5c065ea0d651"
      },
      "execution_count": 80,
      "outputs": [
        {
          "output_type": "stream",
          "name": "stdout",
          "text": [
            "Chosen Cards by Category: {'Groceries': 'Card5', 'Gas': 'Card2', 'Dining': 'Card2', 'Travel': 'Card8', 'Entertainment': 'Card5'}\n",
            "Total Reward: 150.5\n",
            "Unique Cards Selected: {'Card8', 'Card2', 'Card5'}\n"
          ]
        },
        {
          "output_type": "stream",
          "name": "stderr",
          "text": [
            "/usr/local/lib/python3.10/dist-packages/pulp/pulp.py:1316: UserWarning: Spaces are not permitted in the name. Converted to '_'\n",
            "  warnings.warn(\"Spaces are not permitted in the name. Converted to '_'\")\n"
          ]
        }
      ]
    },
    {
      "cell_type": "markdown",
      "source": [
        "## Load credit card rewards data set"
      ],
      "metadata": {
        "id": "gx1Iqf6_Gtn0"
      }
    },
    {
      "cell_type": "code",
      "source": [
        "def import_csv_to_cards_dict(csv_file_path: str) -> Dict:\n",
        "    \"\"\"\n",
        "    This function imports credit card data from a CSV file and formats it into a dictionary.\n",
        "\n",
        "    Args:\n",
        "        csv_file_path (str): Path to the CSV file containing credit card data.\n",
        "\n",
        "    Returns:\n",
        "        dict: A dictionary where keys are card names and values are dictionaries containing:\n",
        "              - 'annual_fee' (float): The annual fee of the card.\n",
        "              - 'rewards' (dict): A dictionary where keys are spending categories\n",
        "                                  (assuming columns 5 to 14 in the CSV) and values are\n",
        "                                  the reward points earned per dollar spent in that category.\n",
        "    \"\"\"\n",
        "\n",
        "    # Read the CSV file using Pandas\n",
        "    credit_card_data = pd.read_csv(csv_file_path)\n",
        "\n",
        "    # Extract spending categories (assuming columns 5 to 14)\n",
        "    categories = list(credit_card_data.columns[5:15])\n",
        "\n",
        "    # Create the formatted card data dictionary\n",
        "    cards_data = {}\n",
        "    for index, row in credit_card_data.iterrows():\n",
        "        card_name = row['Credit Card']\n",
        "        annual_fee = row['Annual Fee']\n",
        "        point_value = row['Point Value']\n",
        "        rewards = {category: row[category] * point_value for category in categories}\n",
        "        cards_data[card_name] = {'annual_fee': annual_fee, 'rewards': rewards}\n",
        "\n",
        "    return cards_data\n"
      ],
      "metadata": {
        "id": "EzYQ3pUGHCrk"
      },
      "execution_count": 81,
      "outputs": []
    },
    {
      "cell_type": "markdown",
      "source": [
        "# Load Credit Card Database"
      ],
      "metadata": {
        "id": "fmkAH2l9Fe9j"
      }
    },
    {
      "cell_type": "code",
      "source": [
        "filename = 'Credit Card Rewards - Sheet1 (1).csv'\n",
        "\n",
        "cards_data = import_csv_to_cards_dict(filename)"
      ],
      "metadata": {
        "id": "grq8QXQXQmnh"
      },
      "execution_count": 82,
      "outputs": []
    },
    {
      "cell_type": "code",
      "source": [
        "print(cards_data['Chase Sapphire Reserve'])"
      ],
      "metadata": {
        "colab": {
          "base_uri": "https://localhost:8080/"
        },
        "id": "Rgt2sNZ5Qxxn",
        "outputId": "4ad447aa-b048-42c4-adde-9d8357c9cec1"
      },
      "execution_count": 83,
      "outputs": [
        {
          "output_type": "stream",
          "name": "stdout",
          "text": [
            "{'annual_fee': 595.0, 'rewards': {'Flights': 0.075, 'Hotels': 0.15, 'Other Travel': 0.045, 'Dining': 0.045, 'Grocery': 0.015, 'Gas': 0.015, 'Rideshare': nan, 'Online Shopping': 0.015, 'Amazon': 0.015, 'Costco': 0.015}}\n"
          ]
        }
      ]
    },
    {
      "cell_type": "markdown",
      "source": [
        "# Run Optimization on Actual Card Data [TBD]"
      ],
      "metadata": {
        "id": "RsMib3HwFpOS"
      }
    },
    {
      "cell_type": "code",
      "source": [],
      "metadata": {
        "id": "90YwZXDtFnc3"
      },
      "execution_count": 83,
      "outputs": []
    }
  ]
}